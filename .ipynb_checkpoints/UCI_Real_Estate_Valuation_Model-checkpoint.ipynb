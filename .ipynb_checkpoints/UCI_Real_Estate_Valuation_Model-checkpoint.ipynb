{
 "cells": [
  {
   "cell_type": "markdown",
   "id": "60e725d1",
   "metadata": {},
   "source": [
    "## Import Libraries"
   ]
  },
  {
   "cell_type": "code",
   "execution_count": 24,
   "id": "cb3d7cf6",
   "metadata": {},
   "outputs": [
    {
     "data": {
      "text/html": [
       "        <script type=\"text/javascript\">\n",
       "        window.PlotlyConfig = {MathJaxConfig: 'local'};\n",
       "        if (window.MathJax) {MathJax.Hub.Config({SVG: {font: \"STIX-Web\"}});}\n",
       "        if (typeof require !== 'undefined') {\n",
       "        require.undef(\"plotly\");\n",
       "        requirejs.config({\n",
       "            paths: {\n",
       "                'plotly': ['https://cdn.plot.ly/plotly-2.4.2.min']\n",
       "            }\n",
       "        });\n",
       "        require(['plotly'], function(Plotly) {\n",
       "            window._Plotly = Plotly;\n",
       "        });\n",
       "        }\n",
       "        </script>\n",
       "        "
      ]
     },
     "metadata": {},
     "output_type": "display_data"
    },
    {
     "data": {
      "text/html": [
       "        <script type=\"text/javascript\">\n",
       "        window.PlotlyConfig = {MathJaxConfig: 'local'};\n",
       "        if (window.MathJax) {MathJax.Hub.Config({SVG: {font: \"STIX-Web\"}});}\n",
       "        if (typeof require !== 'undefined') {\n",
       "        require.undef(\"plotly\");\n",
       "        requirejs.config({\n",
       "            paths: {\n",
       "                'plotly': ['https://cdn.plot.ly/plotly-2.4.2.min']\n",
       "            }\n",
       "        });\n",
       "        require(['plotly'], function(Plotly) {\n",
       "            window._Plotly = Plotly;\n",
       "        });\n",
       "        }\n",
       "        </script>\n",
       "        "
      ]
     },
     "metadata": {},
     "output_type": "display_data"
    }
   ],
   "source": [
    "import pandas as pd\n",
    "import numpy as np\n",
    "import matplotlib.pyplot as plt\n",
    "import seaborn as sns\n",
    "import warnings\n",
    "warnings.filterwarnings(\"ignore\")\n",
    "import cufflinks as cf\n",
    "cf.go_offline()\n",
    "cf.set_config_file(offline=False, world_readable=True)\n",
    "from plotly.offline import init_notebook_mode, iplot\n",
    "init_notebook_mode(connected=True)\n",
    "\n",
    "pd.options.display.max_rows = None\n",
    "pd.options.display.max_columns = None\n",
    "sns.set()\n",
    "from scipy import stats\n",
    "from sklearn.model_selection import train_test_split\n",
    "from sklearn.ensemble import RandomForestRegressor\n",
    "from pprint import pprint\n",
    "from sklearn.model_selection import cross_val_score\n",
    "from sklearn.metrics import mean_absolute_error, mean_squared_error, r2_score\n"
   ]
  },
  {
   "cell_type": "markdown",
   "id": "f98bb00c",
   "metadata": {},
   "source": [
    "## Import Dataset"
   ]
  },
  {
   "cell_type": "code",
   "execution_count": 2,
   "id": "f68f3270",
   "metadata": {},
   "outputs": [],
   "source": [
    "df = pd.read_excel(\"https://archive.ics.uci.edu/ml/machine-learning-databases/00477/Real%20estate%20valuation%20data%20set.xlsx\")\n"
   ]
  },
  {
   "cell_type": "code",
   "execution_count": 3,
   "id": "bcb4747a",
   "metadata": {},
   "outputs": [
    {
     "data": {
      "text/plain": [
       "(414, 8)"
      ]
     },
     "execution_count": 3,
     "metadata": {},
     "output_type": "execute_result"
    }
   ],
   "source": [
    "df.shape"
   ]
  },
  {
   "cell_type": "code",
   "execution_count": 4,
   "id": "551980b0",
   "metadata": {},
   "outputs": [
    {
     "data": {
      "text/html": [
       "<div>\n",
       "<style scoped>\n",
       "    .dataframe tbody tr th:only-of-type {\n",
       "        vertical-align: middle;\n",
       "    }\n",
       "\n",
       "    .dataframe tbody tr th {\n",
       "        vertical-align: top;\n",
       "    }\n",
       "\n",
       "    .dataframe thead th {\n",
       "        text-align: right;\n",
       "    }\n",
       "</style>\n",
       "<table border=\"1\" class=\"dataframe\">\n",
       "  <thead>\n",
       "    <tr style=\"text-align: right;\">\n",
       "      <th></th>\n",
       "      <th>No</th>\n",
       "      <th>X1 transaction date</th>\n",
       "      <th>X2 house age</th>\n",
       "      <th>X3 distance to the nearest MRT station</th>\n",
       "      <th>X4 number of convenience stores</th>\n",
       "      <th>X5 latitude</th>\n",
       "      <th>X6 longitude</th>\n",
       "      <th>Y house price of unit area</th>\n",
       "    </tr>\n",
       "  </thead>\n",
       "  <tbody>\n",
       "    <tr>\n",
       "      <th>0</th>\n",
       "      <td>1</td>\n",
       "      <td>2012.916667</td>\n",
       "      <td>32.0</td>\n",
       "      <td>84.87882</td>\n",
       "      <td>10</td>\n",
       "      <td>24.98298</td>\n",
       "      <td>121.54024</td>\n",
       "      <td>37.9</td>\n",
       "    </tr>\n",
       "    <tr>\n",
       "      <th>1</th>\n",
       "      <td>2</td>\n",
       "      <td>2012.916667</td>\n",
       "      <td>19.5</td>\n",
       "      <td>306.59470</td>\n",
       "      <td>9</td>\n",
       "      <td>24.98034</td>\n",
       "      <td>121.53951</td>\n",
       "      <td>42.2</td>\n",
       "    </tr>\n",
       "    <tr>\n",
       "      <th>2</th>\n",
       "      <td>3</td>\n",
       "      <td>2013.583333</td>\n",
       "      <td>13.3</td>\n",
       "      <td>561.98450</td>\n",
       "      <td>5</td>\n",
       "      <td>24.98746</td>\n",
       "      <td>121.54391</td>\n",
       "      <td>47.3</td>\n",
       "    </tr>\n",
       "    <tr>\n",
       "      <th>3</th>\n",
       "      <td>4</td>\n",
       "      <td>2013.500000</td>\n",
       "      <td>13.3</td>\n",
       "      <td>561.98450</td>\n",
       "      <td>5</td>\n",
       "      <td>24.98746</td>\n",
       "      <td>121.54391</td>\n",
       "      <td>54.8</td>\n",
       "    </tr>\n",
       "    <tr>\n",
       "      <th>4</th>\n",
       "      <td>5</td>\n",
       "      <td>2012.833333</td>\n",
       "      <td>5.0</td>\n",
       "      <td>390.56840</td>\n",
       "      <td>5</td>\n",
       "      <td>24.97937</td>\n",
       "      <td>121.54245</td>\n",
       "      <td>43.1</td>\n",
       "    </tr>\n",
       "  </tbody>\n",
       "</table>\n",
       "</div>"
      ],
      "text/plain": [
       "   No  X1 transaction date  X2 house age  \\\n",
       "0   1          2012.916667          32.0   \n",
       "1   2          2012.916667          19.5   \n",
       "2   3          2013.583333          13.3   \n",
       "3   4          2013.500000          13.3   \n",
       "4   5          2012.833333           5.0   \n",
       "\n",
       "   X3 distance to the nearest MRT station  X4 number of convenience stores  \\\n",
       "0                                84.87882                               10   \n",
       "1                               306.59470                                9   \n",
       "2                               561.98450                                5   \n",
       "3                               561.98450                                5   \n",
       "4                               390.56840                                5   \n",
       "\n",
       "   X5 latitude  X6 longitude  Y house price of unit area  \n",
       "0     24.98298     121.54024                        37.9  \n",
       "1     24.98034     121.53951                        42.2  \n",
       "2     24.98746     121.54391                        47.3  \n",
       "3     24.98746     121.54391                        54.8  \n",
       "4     24.97937     121.54245                        43.1  "
      ]
     },
     "execution_count": 4,
     "metadata": {},
     "output_type": "execute_result"
    }
   ],
   "source": [
    "df.head()"
   ]
  },
  {
   "cell_type": "markdown",
   "id": "2f1c3c64",
   "metadata": {},
   "source": [
    "#### Rename the column names. Makes it easy for me to use and more representative"
   ]
  },
  {
   "cell_type": "code",
   "execution_count": 5,
   "id": "c77a1602",
   "metadata": {},
   "outputs": [],
   "source": [
    "df = df.rename(columns={\"X1 transaction date\":\"transaction_date\", \"X2 house age\":\"house_age\",\n",
    "                  \"X3 distance to the nearest MRT station\":\"distance_to_nearest_MRT\", \n",
    "                  \"X4 number of convenience stores\":\"number_of_convenience_stores\",\n",
    "                  \"X5 latitude\":\"latitude\", \"X6 longitude\":\"longitude\", \n",
    "                   \"Y house price of unit area\":\"house_price\"})"
   ]
  },
  {
   "cell_type": "markdown",
   "id": "75e8a924",
   "metadata": {},
   "source": [
    "#### Check if the dataset has missing values"
   ]
  },
  {
   "cell_type": "code",
   "execution_count": 6,
   "id": "f8441cf1",
   "metadata": {},
   "outputs": [
    {
     "data": {
      "text/plain": [
       "No                              0\n",
       "transaction_date                0\n",
       "house_age                       0\n",
       "distance_to_nearest_MRT         0\n",
       "number_of_convenience_stores    0\n",
       "latitude                        0\n",
       "longitude                       0\n",
       "house_price                     0\n",
       "dtype: int64"
      ]
     },
     "execution_count": 6,
     "metadata": {},
     "output_type": "execute_result"
    }
   ],
   "source": [
    "df.isnull().sum()"
   ]
  },
  {
   "cell_type": "markdown",
   "id": "1daccaf0",
   "metadata": {},
   "source": [
    "#### Get a high level overview of datatypes for each feature plus distribution"
   ]
  },
  {
   "cell_type": "code",
   "execution_count": 7,
   "id": "81eabd60",
   "metadata": {},
   "outputs": [
    {
     "name": "stdout",
     "output_type": "stream",
     "text": [
      "<class 'pandas.core.frame.DataFrame'>\n",
      "RangeIndex: 414 entries, 0 to 413\n",
      "Data columns (total 8 columns):\n",
      " #   Column                        Non-Null Count  Dtype  \n",
      "---  ------                        --------------  -----  \n",
      " 0   No                            414 non-null    int64  \n",
      " 1   transaction_date              414 non-null    float64\n",
      " 2   house_age                     414 non-null    float64\n",
      " 3   distance_to_nearest_MRT       414 non-null    float64\n",
      " 4   number_of_convenience_stores  414 non-null    int64  \n",
      " 5   latitude                      414 non-null    float64\n",
      " 6   longitude                     414 non-null    float64\n",
      " 7   house_price                   414 non-null    float64\n",
      "dtypes: float64(6), int64(2)\n",
      "memory usage: 26.0 KB\n"
     ]
    }
   ],
   "source": [
    "df.info()"
   ]
  },
  {
   "cell_type": "code",
   "execution_count": 8,
   "id": "df21ab0b",
   "metadata": {},
   "outputs": [
    {
     "data": {
      "text/html": [
       "<div>\n",
       "<style scoped>\n",
       "    .dataframe tbody tr th:only-of-type {\n",
       "        vertical-align: middle;\n",
       "    }\n",
       "\n",
       "    .dataframe tbody tr th {\n",
       "        vertical-align: top;\n",
       "    }\n",
       "\n",
       "    .dataframe thead th {\n",
       "        text-align: right;\n",
       "    }\n",
       "</style>\n",
       "<table border=\"1\" class=\"dataframe\">\n",
       "  <thead>\n",
       "    <tr style=\"text-align: right;\">\n",
       "      <th></th>\n",
       "      <th>No</th>\n",
       "      <th>transaction_date</th>\n",
       "      <th>house_age</th>\n",
       "      <th>distance_to_nearest_MRT</th>\n",
       "      <th>number_of_convenience_stores</th>\n",
       "      <th>latitude</th>\n",
       "      <th>longitude</th>\n",
       "      <th>house_price</th>\n",
       "    </tr>\n",
       "  </thead>\n",
       "  <tbody>\n",
       "    <tr>\n",
       "      <th>count</th>\n",
       "      <td>414.000000</td>\n",
       "      <td>414.000000</td>\n",
       "      <td>414.000000</td>\n",
       "      <td>414.000000</td>\n",
       "      <td>414.000000</td>\n",
       "      <td>414.000000</td>\n",
       "      <td>414.000000</td>\n",
       "      <td>414.000000</td>\n",
       "    </tr>\n",
       "    <tr>\n",
       "      <th>mean</th>\n",
       "      <td>207.500000</td>\n",
       "      <td>2013.148953</td>\n",
       "      <td>17.712560</td>\n",
       "      <td>1083.885689</td>\n",
       "      <td>4.094203</td>\n",
       "      <td>24.969030</td>\n",
       "      <td>121.533361</td>\n",
       "      <td>37.980193</td>\n",
       "    </tr>\n",
       "    <tr>\n",
       "      <th>std</th>\n",
       "      <td>119.655756</td>\n",
       "      <td>0.281995</td>\n",
       "      <td>11.392485</td>\n",
       "      <td>1262.109595</td>\n",
       "      <td>2.945562</td>\n",
       "      <td>0.012410</td>\n",
       "      <td>0.015347</td>\n",
       "      <td>13.606488</td>\n",
       "    </tr>\n",
       "    <tr>\n",
       "      <th>min</th>\n",
       "      <td>1.000000</td>\n",
       "      <td>2012.666667</td>\n",
       "      <td>0.000000</td>\n",
       "      <td>23.382840</td>\n",
       "      <td>0.000000</td>\n",
       "      <td>24.932070</td>\n",
       "      <td>121.473530</td>\n",
       "      <td>7.600000</td>\n",
       "    </tr>\n",
       "    <tr>\n",
       "      <th>25%</th>\n",
       "      <td>104.250000</td>\n",
       "      <td>2012.916667</td>\n",
       "      <td>9.025000</td>\n",
       "      <td>289.324800</td>\n",
       "      <td>1.000000</td>\n",
       "      <td>24.963000</td>\n",
       "      <td>121.528085</td>\n",
       "      <td>27.700000</td>\n",
       "    </tr>\n",
       "    <tr>\n",
       "      <th>50%</th>\n",
       "      <td>207.500000</td>\n",
       "      <td>2013.166667</td>\n",
       "      <td>16.100000</td>\n",
       "      <td>492.231300</td>\n",
       "      <td>4.000000</td>\n",
       "      <td>24.971100</td>\n",
       "      <td>121.538630</td>\n",
       "      <td>38.450000</td>\n",
       "    </tr>\n",
       "    <tr>\n",
       "      <th>75%</th>\n",
       "      <td>310.750000</td>\n",
       "      <td>2013.416667</td>\n",
       "      <td>28.150000</td>\n",
       "      <td>1454.279000</td>\n",
       "      <td>6.000000</td>\n",
       "      <td>24.977455</td>\n",
       "      <td>121.543305</td>\n",
       "      <td>46.600000</td>\n",
       "    </tr>\n",
       "    <tr>\n",
       "      <th>max</th>\n",
       "      <td>414.000000</td>\n",
       "      <td>2013.583333</td>\n",
       "      <td>43.800000</td>\n",
       "      <td>6488.021000</td>\n",
       "      <td>10.000000</td>\n",
       "      <td>25.014590</td>\n",
       "      <td>121.566270</td>\n",
       "      <td>117.500000</td>\n",
       "    </tr>\n",
       "  </tbody>\n",
       "</table>\n",
       "</div>"
      ],
      "text/plain": [
       "               No  transaction_date   house_age  distance_to_nearest_MRT  \\\n",
       "count  414.000000        414.000000  414.000000               414.000000   \n",
       "mean   207.500000       2013.148953   17.712560              1083.885689   \n",
       "std    119.655756          0.281995   11.392485              1262.109595   \n",
       "min      1.000000       2012.666667    0.000000                23.382840   \n",
       "25%    104.250000       2012.916667    9.025000               289.324800   \n",
       "50%    207.500000       2013.166667   16.100000               492.231300   \n",
       "75%    310.750000       2013.416667   28.150000              1454.279000   \n",
       "max    414.000000       2013.583333   43.800000              6488.021000   \n",
       "\n",
       "       number_of_convenience_stores    latitude   longitude  house_price  \n",
       "count                    414.000000  414.000000  414.000000   414.000000  \n",
       "mean                       4.094203   24.969030  121.533361    37.980193  \n",
       "std                        2.945562    0.012410    0.015347    13.606488  \n",
       "min                        0.000000   24.932070  121.473530     7.600000  \n",
       "25%                        1.000000   24.963000  121.528085    27.700000  \n",
       "50%                        4.000000   24.971100  121.538630    38.450000  \n",
       "75%                        6.000000   24.977455  121.543305    46.600000  \n",
       "max                       10.000000   25.014590  121.566270   117.500000  "
      ]
     },
     "execution_count": 8,
     "metadata": {},
     "output_type": "execute_result"
    }
   ],
   "source": [
    "df.describe()"
   ]
  },
  {
   "cell_type": "markdown",
   "id": "6846ad66",
   "metadata": {},
   "source": [
    "#### Create a variable called year, clean up the transaction_date and also see the distribution\n",
    "1. Based on information from the UCI website, dates such as 2013.250 represents 2013 March, 2013.500 represents 2013 June, etc. So, I had to clean the transaction_date column abit.\n"
   ]
  },
  {
   "cell_type": "code",
   "execution_count": 9,
   "id": "33838577",
   "metadata": {},
   "outputs": [],
   "source": [
    "df[\"transaction_year\"] = df[\"transaction_date\"].astype(str).apply(lambda x: x.split(\".\")).str[0]\n",
    "df[\"transaction_month\"] = df[\"transaction_date\"].astype(str).apply(lambda x: x.split(\".\")).str[1].str[0].\\\n",
    "                                            astype(int).replace({0:\"jan\", 1:\"feb\", 2:\"mar\", 3:\"apr\", 4:\"may\",\n",
    "                                            5:\"jun\", 6:\"jul\", 7:\"aug\", 8:\"sep\", 9:\"oct\", \n",
    "                                            10:\"nov\", 11:\"dec\"})\n",
    "\n",
    "df[\"transaction_date\"] = df[\"transaction_year\"] + \"_\" + df[\"transaction_month\"]\n",
    "df = df.drop(\"transaction_month\", axis = 1)"
   ]
  },
  {
   "cell_type": "code",
   "execution_count": 10,
   "id": "85bd1b58",
   "metadata": {},
   "outputs": [
    {
     "data": {
      "text/html": [
       "<div>\n",
       "<style scoped>\n",
       "    .dataframe tbody tr th:only-of-type {\n",
       "        vertical-align: middle;\n",
       "    }\n",
       "\n",
       "    .dataframe tbody tr th {\n",
       "        vertical-align: top;\n",
       "    }\n",
       "\n",
       "    .dataframe thead th {\n",
       "        text-align: right;\n",
       "    }\n",
       "</style>\n",
       "<table border=\"1\" class=\"dataframe\">\n",
       "  <thead>\n",
       "    <tr style=\"text-align: right;\">\n",
       "      <th></th>\n",
       "      <th>No</th>\n",
       "      <th>transaction_date</th>\n",
       "      <th>house_age</th>\n",
       "      <th>distance_to_nearest_MRT</th>\n",
       "      <th>number_of_convenience_stores</th>\n",
       "      <th>latitude</th>\n",
       "      <th>longitude</th>\n",
       "      <th>house_price</th>\n",
       "      <th>transaction_year</th>\n",
       "    </tr>\n",
       "  </thead>\n",
       "  <tbody>\n",
       "    <tr>\n",
       "      <th>0</th>\n",
       "      <td>1</td>\n",
       "      <td>2012_oct</td>\n",
       "      <td>32.0</td>\n",
       "      <td>84.87882</td>\n",
       "      <td>10</td>\n",
       "      <td>24.98298</td>\n",
       "      <td>121.54024</td>\n",
       "      <td>37.9</td>\n",
       "      <td>2012</td>\n",
       "    </tr>\n",
       "    <tr>\n",
       "      <th>1</th>\n",
       "      <td>2</td>\n",
       "      <td>2012_oct</td>\n",
       "      <td>19.5</td>\n",
       "      <td>306.59470</td>\n",
       "      <td>9</td>\n",
       "      <td>24.98034</td>\n",
       "      <td>121.53951</td>\n",
       "      <td>42.2</td>\n",
       "      <td>2012</td>\n",
       "    </tr>\n",
       "    <tr>\n",
       "      <th>2</th>\n",
       "      <td>3</td>\n",
       "      <td>2013_jun</td>\n",
       "      <td>13.3</td>\n",
       "      <td>561.98450</td>\n",
       "      <td>5</td>\n",
       "      <td>24.98746</td>\n",
       "      <td>121.54391</td>\n",
       "      <td>47.3</td>\n",
       "      <td>2013</td>\n",
       "    </tr>\n",
       "    <tr>\n",
       "      <th>3</th>\n",
       "      <td>4</td>\n",
       "      <td>2013_jun</td>\n",
       "      <td>13.3</td>\n",
       "      <td>561.98450</td>\n",
       "      <td>5</td>\n",
       "      <td>24.98746</td>\n",
       "      <td>121.54391</td>\n",
       "      <td>54.8</td>\n",
       "      <td>2013</td>\n",
       "    </tr>\n",
       "    <tr>\n",
       "      <th>4</th>\n",
       "      <td>5</td>\n",
       "      <td>2012_sep</td>\n",
       "      <td>5.0</td>\n",
       "      <td>390.56840</td>\n",
       "      <td>5</td>\n",
       "      <td>24.97937</td>\n",
       "      <td>121.54245</td>\n",
       "      <td>43.1</td>\n",
       "      <td>2012</td>\n",
       "    </tr>\n",
       "  </tbody>\n",
       "</table>\n",
       "</div>"
      ],
      "text/plain": [
       "   No transaction_date  house_age  distance_to_nearest_MRT  \\\n",
       "0   1         2012_oct       32.0                 84.87882   \n",
       "1   2         2012_oct       19.5                306.59470   \n",
       "2   3         2013_jun       13.3                561.98450   \n",
       "3   4         2013_jun       13.3                561.98450   \n",
       "4   5         2012_sep        5.0                390.56840   \n",
       "\n",
       "   number_of_convenience_stores  latitude  longitude  house_price  \\\n",
       "0                            10  24.98298  121.54024         37.9   \n",
       "1                             9  24.98034  121.53951         42.2   \n",
       "2                             5  24.98746  121.54391         47.3   \n",
       "3                             5  24.98746  121.54391         54.8   \n",
       "4                             5  24.97937  121.54245         43.1   \n",
       "\n",
       "  transaction_year  \n",
       "0             2012  \n",
       "1             2012  \n",
       "2             2013  \n",
       "3             2013  \n",
       "4             2012  "
      ]
     },
     "execution_count": 10,
     "metadata": {},
     "output_type": "execute_result"
    }
   ],
   "source": [
    "df.head()\n"
   ]
  },
  {
   "cell_type": "markdown",
   "id": "cf8edff7",
   "metadata": {},
   "source": [
    "#### Using the function below for plotting feature distributions in plotly"
   ]
  },
  {
   "cell_type": "code",
   "execution_count": 20,
   "id": "94552d00",
   "metadata": {},
   "outputs": [],
   "source": [
    "def plot_data(feature, title):\n",
    "    return feature.iplot(kind='hist',bins=30,xTitle=title,linecolor='black', \n",
    "                             yTitle='count', title='histogram of ' + str(title))\n",
    "    "
   ]
  },
  {
   "cell_type": "markdown",
   "id": "afe5894a",
   "metadata": {},
   "source": [
    "#### Loop below helps us get a graphical picture of what the variables look like"
   ]
  },
  {
   "cell_type": "code",
   "execution_count": 23,
   "id": "0bc4a9b0",
   "metadata": {
    "scrolled": false
   },
   "outputs": [
    {
     "ename": "ValueError",
     "evalue": "\nImage export using the \"kaleido\" engine requires the kaleido package,\nwhich can be installed using pip:\n    $ pip install -U kaleido\n",
     "output_type": "error",
     "traceback": [
      "\u001b[0;31m---------------------------------------------------------------------------\u001b[0m",
      "\u001b[0;31mValueError\u001b[0m                                Traceback (most recent call last)",
      "\u001b[0;32m<ipython-input-23-bb96a7e6f3ec>\u001b[0m in \u001b[0;36m<module>\u001b[0;34m\u001b[0m\n\u001b[1;32m      1\u001b[0m \u001b[0;32mfor\u001b[0m \u001b[0mcolumn\u001b[0m \u001b[0;32min\u001b[0m \u001b[0mdf\u001b[0m\u001b[0;34m.\u001b[0m\u001b[0mcolumns\u001b[0m\u001b[0;34m:\u001b[0m\u001b[0;34m\u001b[0m\u001b[0;34m\u001b[0m\u001b[0m\n\u001b[0;32m----> 2\u001b[0;31m     \u001b[0mplot_data\u001b[0m\u001b[0;34m(\u001b[0m\u001b[0mdf\u001b[0m\u001b[0;34m[\u001b[0m\u001b[0mcolumn\u001b[0m\u001b[0;34m]\u001b[0m\u001b[0;34m,\u001b[0m \u001b[0mcolumn\u001b[0m\u001b[0;34m)\u001b[0m\u001b[0;34m\u001b[0m\u001b[0;34m\u001b[0m\u001b[0m\n\u001b[0m",
      "\u001b[0;32m<ipython-input-20-b8ee4ae36c06>\u001b[0m in \u001b[0;36mplot_data\u001b[0;34m(feature, title)\u001b[0m\n\u001b[1;32m      1\u001b[0m \u001b[0;32mdef\u001b[0m \u001b[0mplot_data\u001b[0m\u001b[0;34m(\u001b[0m\u001b[0mfeature\u001b[0m\u001b[0;34m,\u001b[0m \u001b[0mtitle\u001b[0m\u001b[0;34m)\u001b[0m\u001b[0;34m:\u001b[0m\u001b[0;34m\u001b[0m\u001b[0;34m\u001b[0m\u001b[0m\n\u001b[0;32m----> 2\u001b[0;31m     return feature.iplot(kind='hist',bins=30,xTitle=title,linecolor='black', \n\u001b[0m\u001b[1;32m      3\u001b[0m                              yTitle='count', title='histogram of ' + str(title))\n\u001b[1;32m      4\u001b[0m     \u001b[0mfig\u001b[0m\u001b[0;34m.\u001b[0m\u001b[0mwrite_image\u001b[0m\u001b[0;34m(\u001b[0m\u001b[0;34m\"figure.png\"\u001b[0m\u001b[0;34m,\u001b[0m \u001b[0mengine\u001b[0m\u001b[0;34m=\u001b[0m\u001b[0;34m\"kaleido\"\u001b[0m\u001b[0;34m)\u001b[0m\u001b[0;34m\u001b[0m\u001b[0;34m\u001b[0m\u001b[0m\n\u001b[1;32m      5\u001b[0m \u001b[0;34m\u001b[0m\u001b[0m\n",
      "\u001b[0;32m~/opt/anaconda3/lib/python3.8/site-packages/cufflinks/plotlytools.py\u001b[0m in \u001b[0;36m_iplot\u001b[0;34m(self, kind, data, layout, filename, sharing, title, xTitle, yTitle, zTitle, theme, colors, colorscale, fill, width, dash, mode, interpolation, symbol, size, barmode, sortbars, bargap, bargroupgap, bins, histnorm, histfunc, orientation, boxpoints, annotations, keys, bestfit, bestfit_colors, mean, mean_colors, categories, x, y, z, text, gridcolor, zerolinecolor, margin, labels, values, secondary_y, secondary_y_title, subplots, shape, error_x, error_y, error_type, locations, lon, lat, asFrame, asDates, asFigure, asImage, dimensions, asPlot, asUrl, online, **kwargs)\u001b[0m\n\u001b[1;32m   1214\u001b[0m                 \u001b[0;32mreturn\u001b[0m \u001b[0mFigure\u001b[0m\u001b[0;34m(\u001b[0m\u001b[0mfigure\u001b[0m\u001b[0;34m)\u001b[0m\u001b[0;34m\u001b[0m\u001b[0;34m\u001b[0m\u001b[0m\n\u001b[1;32m   1215\u001b[0m         \u001b[0;32melse\u001b[0m\u001b[0;34m:\u001b[0m\u001b[0;34m\u001b[0m\u001b[0;34m\u001b[0m\u001b[0m\n\u001b[0;32m-> 1216\u001b[0;31m \t\treturn iplot(figure,validate=validate,sharing=sharing,filename=filename,\n\u001b[0m\u001b[1;32m   1217\u001b[0m                          \u001b[0monline\u001b[0m\u001b[0;34m=\u001b[0m\u001b[0monline\u001b[0m\u001b[0;34m,\u001b[0m\u001b[0masImage\u001b[0m\u001b[0;34m=\u001b[0m\u001b[0masImage\u001b[0m\u001b[0;34m,\u001b[0m\u001b[0masUrl\u001b[0m\u001b[0;34m=\u001b[0m\u001b[0masUrl\u001b[0m\u001b[0;34m,\u001b[0m\u001b[0masPlot\u001b[0m\u001b[0;34m=\u001b[0m\u001b[0masPlot\u001b[0m\u001b[0;34m,\u001b[0m\u001b[0;34m\u001b[0m\u001b[0;34m\u001b[0m\u001b[0m\n\u001b[1;32m   1218\u001b[0m \t\t\t dimensions=dimensions,display_image=kwargs.get('display_image',True))\n",
      "\u001b[0;32m~/opt/anaconda3/lib/python3.8/site-packages/cufflinks/plotlytools.py\u001b[0m in \u001b[0;36miplot\u001b[0;34m(figure, validate, sharing, filename, online, asImage, asUrl, asPlot, dimensions, display_image, **kwargs)\u001b[0m\n\u001b[1;32m   1466\u001b[0m         \u001b[0;31m## iplot\u001b[0m\u001b[0;34m\u001b[0m\u001b[0;34m\u001b[0m\u001b[0;34m\u001b[0m\u001b[0m\n\u001b[1;32m   1467\u001b[0m         \u001b[0;32mif\u001b[0m \u001b[0moffline\u001b[0m\u001b[0;34m.\u001b[0m\u001b[0mis_offline\u001b[0m\u001b[0;34m(\u001b[0m\u001b[0;34m)\u001b[0m \u001b[0;32mand\u001b[0m \u001b[0;32mnot\u001b[0m \u001b[0monline\u001b[0m\u001b[0;34m:\u001b[0m\u001b[0;34m\u001b[0m\u001b[0;34m\u001b[0m\u001b[0m\n\u001b[0;32m-> 1468\u001b[0;31m                 \u001b[0;32mreturn\u001b[0m \u001b[0moffline\u001b[0m\u001b[0;34m.\u001b[0m\u001b[0mpy_offline\u001b[0m\u001b[0;34m.\u001b[0m\u001b[0miplot\u001b[0m\u001b[0;34m(\u001b[0m\u001b[0mfigure\u001b[0m\u001b[0;34m,\u001b[0m \u001b[0mvalidate\u001b[0m\u001b[0;34m=\u001b[0m\u001b[0mvalidate\u001b[0m\u001b[0;34m,\u001b[0m \u001b[0mfilename\u001b[0m\u001b[0;34m=\u001b[0m\u001b[0mfilename\u001b[0m\u001b[0;34m,\u001b[0m \u001b[0mshow_link\u001b[0m\u001b[0;34m=\u001b[0m\u001b[0mshow_link\u001b[0m\u001b[0;34m,\u001b[0m \u001b[0mlink_text\u001b[0m\u001b[0;34m=\u001b[0m\u001b[0mlink_text\u001b[0m\u001b[0;34m,\u001b[0m \u001b[0mconfig\u001b[0m\u001b[0;34m=\u001b[0m\u001b[0mconfig\u001b[0m\u001b[0;34m)\u001b[0m\u001b[0;34m\u001b[0m\u001b[0;34m\u001b[0m\u001b[0m\n\u001b[0m\u001b[1;32m   1469\u001b[0m         \u001b[0;32melse\u001b[0m\u001b[0;34m:\u001b[0m\u001b[0;34m\u001b[0m\u001b[0;34m\u001b[0m\u001b[0m\n\u001b[1;32m   1470\u001b[0m \t\treturn py.iplot(figure,validate=validate,sharing=sharing,\n",
      "\u001b[0;32m~/opt/anaconda3/lib/python3.8/site-packages/plotly/offline/offline.py\u001b[0m in \u001b[0;36miplot\u001b[0;34m(figure_or_data, show_link, link_text, validate, image, filename, image_width, image_height, config, auto_play, animation_opts)\u001b[0m\n\u001b[1;32m    390\u001b[0m \u001b[0;34m\u001b[0m\u001b[0m\n\u001b[1;32m    391\u001b[0m     \u001b[0;31m# Show figure\u001b[0m\u001b[0;34m\u001b[0m\u001b[0;34m\u001b[0m\u001b[0;34m\u001b[0m\u001b[0m\n\u001b[0;32m--> 392\u001b[0;31m     pio.show(\n\u001b[0m\u001b[1;32m    393\u001b[0m         \u001b[0mfigure\u001b[0m\u001b[0;34m,\u001b[0m\u001b[0;34m\u001b[0m\u001b[0;34m\u001b[0m\u001b[0m\n\u001b[1;32m    394\u001b[0m         \u001b[0mvalidate\u001b[0m\u001b[0;34m=\u001b[0m\u001b[0mvalidate\u001b[0m\u001b[0;34m,\u001b[0m\u001b[0;34m\u001b[0m\u001b[0;34m\u001b[0m\u001b[0m\n",
      "\u001b[0;32m~/opt/anaconda3/lib/python3.8/site-packages/plotly/io/_renderers.py\u001b[0m in \u001b[0;36mshow\u001b[0;34m(fig, renderer, validate, **kwargs)\u001b[0m\n\u001b[1;32m    387\u001b[0m \u001b[0;34m\u001b[0m\u001b[0m\n\u001b[1;32m    388\u001b[0m     \u001b[0;31m# Mimetype renderers\u001b[0m\u001b[0;34m\u001b[0m\u001b[0;34m\u001b[0m\u001b[0;34m\u001b[0m\u001b[0m\n\u001b[0;32m--> 389\u001b[0;31m     \u001b[0mbundle\u001b[0m \u001b[0;34m=\u001b[0m \u001b[0mrenderers\u001b[0m\u001b[0;34m.\u001b[0m\u001b[0m_build_mime_bundle\u001b[0m\u001b[0;34m(\u001b[0m\u001b[0mfig_dict\u001b[0m\u001b[0;34m,\u001b[0m \u001b[0mrenderers_string\u001b[0m\u001b[0;34m=\u001b[0m\u001b[0mrenderer\u001b[0m\u001b[0;34m,\u001b[0m \u001b[0;34m**\u001b[0m\u001b[0mkwargs\u001b[0m\u001b[0;34m)\u001b[0m\u001b[0;34m\u001b[0m\u001b[0;34m\u001b[0m\u001b[0m\n\u001b[0m\u001b[1;32m    390\u001b[0m     \u001b[0;32mif\u001b[0m \u001b[0mbundle\u001b[0m\u001b[0;34m:\u001b[0m\u001b[0;34m\u001b[0m\u001b[0;34m\u001b[0m\u001b[0m\n\u001b[1;32m    391\u001b[0m         \u001b[0;32mif\u001b[0m \u001b[0;32mnot\u001b[0m \u001b[0mipython_display\u001b[0m\u001b[0;34m:\u001b[0m\u001b[0;34m\u001b[0m\u001b[0;34m\u001b[0m\u001b[0m\n",
      "\u001b[0;32m~/opt/anaconda3/lib/python3.8/site-packages/plotly/io/_renderers.py\u001b[0m in \u001b[0;36m_build_mime_bundle\u001b[0;34m(self, fig_dict, renderers_string, **kwargs)\u001b[0m\n\u001b[1;32m    295\u001b[0m                         \u001b[0msetattr\u001b[0m\u001b[0;34m(\u001b[0m\u001b[0mrenderer\u001b[0m\u001b[0;34m,\u001b[0m \u001b[0mk\u001b[0m\u001b[0;34m,\u001b[0m \u001b[0mv\u001b[0m\u001b[0;34m)\u001b[0m\u001b[0;34m\u001b[0m\u001b[0;34m\u001b[0m\u001b[0m\n\u001b[1;32m    296\u001b[0m \u001b[0;34m\u001b[0m\u001b[0m\n\u001b[0;32m--> 297\u001b[0;31m                 \u001b[0mbundle\u001b[0m\u001b[0;34m.\u001b[0m\u001b[0mupdate\u001b[0m\u001b[0;34m(\u001b[0m\u001b[0mrenderer\u001b[0m\u001b[0;34m.\u001b[0m\u001b[0mto_mimebundle\u001b[0m\u001b[0;34m(\u001b[0m\u001b[0mfig_dict\u001b[0m\u001b[0;34m)\u001b[0m\u001b[0;34m)\u001b[0m\u001b[0;34m\u001b[0m\u001b[0;34m\u001b[0m\u001b[0m\n\u001b[0m\u001b[1;32m    298\u001b[0m \u001b[0;34m\u001b[0m\u001b[0m\n\u001b[1;32m    299\u001b[0m         \u001b[0;32mreturn\u001b[0m \u001b[0mbundle\u001b[0m\u001b[0;34m\u001b[0m\u001b[0;34m\u001b[0m\u001b[0m\n",
      "\u001b[0;32m~/opt/anaconda3/lib/python3.8/site-packages/plotly/io/_base_renderers.py\u001b[0m in \u001b[0;36mto_mimebundle\u001b[0;34m(self, fig_dict)\u001b[0m\n\u001b[1;32m    126\u001b[0m \u001b[0;34m\u001b[0m\u001b[0m\n\u001b[1;32m    127\u001b[0m     \u001b[0;32mdef\u001b[0m \u001b[0mto_mimebundle\u001b[0m\u001b[0;34m(\u001b[0m\u001b[0mself\u001b[0m\u001b[0;34m,\u001b[0m \u001b[0mfig_dict\u001b[0m\u001b[0;34m)\u001b[0m\u001b[0;34m:\u001b[0m\u001b[0;34m\u001b[0m\u001b[0;34m\u001b[0m\u001b[0m\n\u001b[0;32m--> 128\u001b[0;31m         image_bytes = to_image(\n\u001b[0m\u001b[1;32m    129\u001b[0m             \u001b[0mfig_dict\u001b[0m\u001b[0;34m,\u001b[0m\u001b[0;34m\u001b[0m\u001b[0;34m\u001b[0m\u001b[0m\n\u001b[1;32m    130\u001b[0m             \u001b[0mformat\u001b[0m\u001b[0;34m=\u001b[0m\u001b[0mself\u001b[0m\u001b[0;34m.\u001b[0m\u001b[0mformat\u001b[0m\u001b[0;34m,\u001b[0m\u001b[0;34m\u001b[0m\u001b[0;34m\u001b[0m\u001b[0m\n",
      "\u001b[0;32m~/opt/anaconda3/lib/python3.8/site-packages/plotly/io/_kaleido.py\u001b[0m in \u001b[0;36mto_image\u001b[0;34m(fig, format, width, height, scale, validate, engine)\u001b[0m\n\u001b[1;32m    132\u001b[0m     \u001b[0;31m# Raise informative error message if Kaleido is not installed\u001b[0m\u001b[0;34m\u001b[0m\u001b[0;34m\u001b[0m\u001b[0;34m\u001b[0m\u001b[0m\n\u001b[1;32m    133\u001b[0m     \u001b[0;32mif\u001b[0m \u001b[0mscope\u001b[0m \u001b[0;32mis\u001b[0m \u001b[0;32mNone\u001b[0m\u001b[0;34m:\u001b[0m\u001b[0;34m\u001b[0m\u001b[0;34m\u001b[0m\u001b[0m\n\u001b[0;32m--> 134\u001b[0;31m         raise ValueError(\n\u001b[0m\u001b[1;32m    135\u001b[0m             \"\"\"\n\u001b[1;32m    136\u001b[0m \u001b[0mImage\u001b[0m \u001b[0mexport\u001b[0m \u001b[0musing\u001b[0m \u001b[0mthe\u001b[0m \u001b[0;34m\"kaleido\"\u001b[0m \u001b[0mengine\u001b[0m \u001b[0mrequires\u001b[0m \u001b[0mthe\u001b[0m \u001b[0mkaleido\u001b[0m \u001b[0mpackage\u001b[0m\u001b[0;34m,\u001b[0m\u001b[0;34m\u001b[0m\u001b[0;34m\u001b[0m\u001b[0m\n",
      "\u001b[0;31mValueError\u001b[0m: \nImage export using the \"kaleido\" engine requires the kaleido package,\nwhich can be installed using pip:\n    $ pip install -U kaleido\n"
     ]
    }
   ],
   "source": [
    "for column in df.columns:\n",
    "    plot_data(df[column], column)"
   ]
  },
  {
   "cell_type": "markdown",
   "id": "82f16024",
   "metadata": {},
   "source": [
    "#### To understand relationship between the independent features and target variable, I'll be grouping independent variables into bins and carrying out some analysis. "
   ]
  },
  {
   "cell_type": "code",
   "execution_count": null,
   "id": "1da94364",
   "metadata": {},
   "outputs": [],
   "source": [
    "df.head()"
   ]
  },
  {
   "cell_type": "code",
   "execution_count": null,
   "id": "8e1f5aae",
   "metadata": {},
   "outputs": [],
   "source": [
    "df[\"decile_house_age\"] = pd.qcut(df[\"house_age\"], q = 10, labels = [1,2,3,4,5,6,7,8,9,10])\n",
    "df[\"decile_distance_to_nearest_MRT_station\"] = pd.qcut(df[\"distance_to_nearest_MRT\"], q = 10, labels = [1,2,3,4,5,6,7,8,9,10])\n",
    "df[\"quintile_number_convenience_stores\"] = pd.qcut(df[\"number_of_convenience_stores\"], q = 5, labels = [1,2,3,4,5])\n",
    "df[\"decile_latitude\"] = pd.qcut(df[\"latitude\"], q = 10, labels = [1,2,3,4,5,6,7,8,9,10])\n",
    "df[\"decile_longitude\"] = pd.qcut(df[\"longitude\"], q = 10, labels = [1,2,3,4,5,6,7,8,9,10])"
   ]
  },
  {
   "cell_type": "markdown",
   "id": "c3d96593",
   "metadata": {},
   "source": [
    "#### The function below to check distribution across bins. Wrote it to avoid code repitition"
   ]
  },
  {
   "cell_type": "code",
   "execution_count": null,
   "id": "59bd2c2d",
   "metadata": {},
   "outputs": [],
   "source": [
    "def check_average_distribution(data, feature):\n",
    "    return data.groupby(feature)[\"house_price\"].mean()"
   ]
  },
  {
   "cell_type": "markdown",
   "id": "58c756cf",
   "metadata": {},
   "source": [
    "####  year and house price"
   ]
  },
  {
   "cell_type": "code",
   "execution_count": null,
   "id": "e3d7d4ac",
   "metadata": {},
   "outputs": [],
   "source": [
    "check_average_distribution(df, \"transaction_year\")"
   ]
  },
  {
   "cell_type": "markdown",
   "id": "c85c89c5",
   "metadata": {},
   "source": [
    "#### latitude and house_price"
   ]
  },
  {
   "cell_type": "code",
   "execution_count": null,
   "id": "f6de01d4",
   "metadata": {},
   "outputs": [],
   "source": [
    "check_average_distribution(df, \"decile_latitude\")"
   ]
  },
  {
   "cell_type": "markdown",
   "id": "35f6a425",
   "metadata": {},
   "source": [
    "#### longitude and house_price"
   ]
  },
  {
   "cell_type": "code",
   "execution_count": null,
   "id": "2758e3e5",
   "metadata": {},
   "outputs": [],
   "source": [
    "check_average_distribution(df, \"decile_longitude\")"
   ]
  },
  {
   "cell_type": "markdown",
   "id": "7b7348cc",
   "metadata": {},
   "source": [
    "#### house_age and house_price"
   ]
  },
  {
   "cell_type": "code",
   "execution_count": null,
   "id": "16f4f277",
   "metadata": {},
   "outputs": [],
   "source": [
    "check_average_distribution(df, \"decile_house_age\")"
   ]
  },
  {
   "cell_type": "code",
   "execution_count": null,
   "id": "d1517a4c",
   "metadata": {},
   "outputs": [],
   "source": [
    "# pd.qcut(df[\"house_age\"], 10).value_counts().sort_index()"
   ]
  },
  {
   "cell_type": "markdown",
   "id": "07f1315e",
   "metadata": {},
   "source": [
    "#### distance_to_nearest_MRT_station and house_price"
   ]
  },
  {
   "cell_type": "code",
   "execution_count": null,
   "id": "b85598ad",
   "metadata": {},
   "outputs": [],
   "source": [
    "check_average_distribution(df, \"decile_distance_to_nearest_MRT_station\")"
   ]
  },
  {
   "cell_type": "markdown",
   "id": "94865fc9",
   "metadata": {},
   "source": [
    "#### number_convenience_stores and house_price"
   ]
  },
  {
   "cell_type": "code",
   "execution_count": null,
   "id": "ea8a127b",
   "metadata": {},
   "outputs": [],
   "source": [
    "check_average_distribution(df, \"quintile_number_convenience_stores\")"
   ]
  },
  {
   "cell_type": "markdown",
   "id": "764f0a9f",
   "metadata": {},
   "source": [
    "#### pairplot to identify possible other outliers"
   ]
  },
  {
   "cell_type": "code",
   "execution_count": null,
   "id": "28b76b77",
   "metadata": {},
   "outputs": [],
   "source": [
    "sns.pairplot(df)\n",
    "plt.show()"
   ]
  },
  {
   "cell_type": "markdown",
   "id": "d680cb01",
   "metadata": {},
   "source": [
    "1. houses with very high prices could be outliers. So, I'll be removing data points with house_price >= 117.5 from the dataset "
   ]
  },
  {
   "cell_type": "code",
   "execution_count": null,
   "id": "f774f290",
   "metadata": {},
   "outputs": [],
   "source": [
    "df = df[df[\"house_price\"] < 117.5].reset_index().drop([\"index\"], axis=1)"
   ]
  },
  {
   "cell_type": "markdown",
   "id": "831b6704",
   "metadata": {},
   "source": [
    "#### correlation plot"
   ]
  },
  {
   "cell_type": "code",
   "execution_count": null,
   "id": "dd15b294",
   "metadata": {},
   "outputs": [],
   "source": [
    "corr_df = df.corr()\n",
    "fig,ax = plt.subplots(figsize = (10,10))\n",
    "sns.heatmap(corr_df , annot = True , annot_kws = {'size':12})\n",
    "plt.show()"
   ]
  },
  {
   "cell_type": "markdown",
   "id": "f77d364b",
   "metadata": {},
   "source": [
    "#### Some insights from the EDA\n",
    "1. The house_age variable has values between 0 to ~44 years with three different peaks. The highest peak is for houses that are between 13 to 19 years old.\n",
    "2. The majority of the houses (approximately 67%) are located 0 to 1000 meters (i.e., 1km) away from the nearest MRT (Mass Rapid Transit) station. \n",
    "3. I noticed that approximately 69% of transactions happened in 2013 - the majority occurred in January, May, and June 2013. \n",
    "4. The most occurring number of convenience stores is 5 and 0. Approximately 16% (i.e., 67/413) of houses don't have convenience stores around in the UCI real estate valuation dataset. Most likely, these houses aren't located in highly residential areas. \n",
    "5. I discovered that more expensive houses have a higher number of convenience stores than less costly houses (The average house price for real estate with at least a single convenience store is about 66% higher than houses without any convenience store around).\n",
    "6. I also noticed that the average house prices tend to decrease as the distance between a house and the nearest MRT station increases. In essence, houses closer to MRT stations are relatively more expensive than houses farther from an MRT station.\n",
    "7. More than 50% of the houses have anything between 1 and 6 convenience stores.\n",
    "8. Over 69% of the houses are clustered around latitude [24.96o,24.98499o] and longitude [121.53o,121.55o].\n",
    "9. The mean and median house price is 37.98 and 38.34 Ping respectively. Also, over 80% of the houses cost around most houses cost around 20 to 54.59 Ping. \n",
    "10. I saw a single house that cost 117.5 Ping. This is an outlier, and I had to remove the data points from the dataset where house price >= 117.5 \n",
    "11. The target_variable is a bit skewed, and on average, house prices were relatively higher in 2013 than in 2012. Perhaps, could be linked to a situation that occurred around 2013\n",
    "12. As the age of a house increases, the average house price is likely to decrease. However, this doesn't hold for houses above 35 years old because the average price increased from 33 to 42 from the 9th to 10th decile. \n",
    "13. I observed the following correlation between between target variable (house price) and independent variables: distance_to_nearest_MRT_station(-0.69), number_of_convenience_stores (0.61), latitude (0.56), longitude (0.55), house_age (-0.21) and transaction_date(0.082)\n",
    "\n"
   ]
  },
  {
   "cell_type": "markdown",
   "id": "7ef6197c",
   "metadata": {},
   "source": [
    "## Modelling\n",
    "1. For this project, I'll only build a baseline model. I outlined a couple other things that can be done to possibly improve the model or project at the end of this notebook (i.e. If I were to dedicate more time to the project)"
   ]
  },
  {
   "cell_type": "code",
   "execution_count": null,
   "id": "52f23d66",
   "metadata": {},
   "outputs": [],
   "source": [
    "df.head()"
   ]
  },
  {
   "cell_type": "markdown",
   "id": "a5e4caf5",
   "metadata": {},
   "source": [
    "#### Remove variables I used only for analysis and separate data in independent and dependent features.\n",
    "\n",
    "1. These variables won't be useful in the model, as I only used them for EDA"
   ]
  },
  {
   "cell_type": "code",
   "execution_count": null,
   "id": "ac564553",
   "metadata": {},
   "outputs": [],
   "source": [
    "df = df.set_index('No')\n",
    "X = df.drop(['house_price', 'transaction_year', 'decile_house_age', \n",
    "            'decile_distance_to_nearest_MRT_station',\n",
    "            'quintile_number_convenience_stores', 'decile_latitude', 'decile_longitude', \n",
    "             \"transaction_date\"], axis = 1)\n",
    "\n",
    "y = df[\"house_price\"]"
   ]
  },
  {
   "cell_type": "markdown",
   "id": "ce74f4f6",
   "metadata": {},
   "source": [
    "#### split data in train_set and test_set"
   ]
  },
  {
   "cell_type": "code",
   "execution_count": null,
   "id": "278c1b18",
   "metadata": {},
   "outputs": [],
   "source": [
    "X_train, X_test, y_train, y_test = train_test_split(X, y, test_size = 0.3, random_state = 22)"
   ]
  },
  {
   "cell_type": "code",
   "execution_count": null,
   "id": "e85d4231",
   "metadata": {},
   "outputs": [],
   "source": [
    "print(X_train.shape, X_test.shape, y_train.shape, y_test.shape)"
   ]
  },
  {
   "cell_type": "markdown",
   "id": "f947c6b4",
   "metadata": {},
   "source": [
    "#### build a baseline Random Forest Model"
   ]
  },
  {
   "cell_type": "code",
   "execution_count": null,
   "id": "ce25004d",
   "metadata": {},
   "outputs": [],
   "source": [
    "## Create a Random Forest Regressor object \n",
    "regressor = RandomForestRegressor()\n",
    "\n",
    "## fit the object on the train set\n",
    "regressor.fit(X_train, y_train)\n",
    "\n",
    "print('Random Forest Parameters:\\n')\n",
    "pprint(regressor.get_params())"
   ]
  },
  {
   "cell_type": "markdown",
   "id": "ed1c5da3",
   "metadata": {},
   "source": [
    "#### run the model on test set to generate predictions"
   ]
  },
  {
   "cell_type": "code",
   "execution_count": null,
   "id": "74f72847",
   "metadata": {},
   "outputs": [],
   "source": [
    "y_pred = regressor.predict(X_test)"
   ]
  },
  {
   "cell_type": "markdown",
   "id": "2eb6c96e",
   "metadata": {},
   "source": [
    "### overview of actual and predicted"
   ]
  },
  {
   "cell_type": "code",
   "execution_count": null,
   "id": "09a690db",
   "metadata": {},
   "outputs": [],
   "source": [
    "actual_predicted_df = pd.concat([pd.DataFrame(y_test).reset_index().drop(\"No\", axis = 1), pd.DataFrame(y_pred)], axis=1).\\\n",
    "                            rename(columns={\"house_price\":\"actual_house_price\", 0:\"predicted_house_price\"})\n",
    "actual_predicted_df.head()"
   ]
  },
  {
   "cell_type": "markdown",
   "id": "306799d2",
   "metadata": {},
   "source": [
    "#### the function below uses cross-validation for model evaluation on the train set"
   ]
  },
  {
   "cell_type": "code",
   "execution_count": null,
   "id": "c1053641",
   "metadata": {},
   "outputs": [],
   "source": [
    "# Define a function for model evaluation using cross validation\n",
    "def evaluate_model_cross_validation(name, model, X_train, y_train, folds = 10):\n",
    " \n",
    "    # MAE (Mean Absolute Error)\n",
    "    metric='neg_mean_absolute_error'\n",
    "    scores = cross_val_score(regressor, X_train, y_train, scoring=metric, cv=folds, n_jobs=-1)\n",
    "    mean_score, std_score = np.mean(scores), np.std(scores)\n",
    "    print('>%s - train set - MAE: %.3f (+/-%.3f)' % (name, mean_score, std_score))\n",
    "    \n",
    "    \n",
    "    # MSE (Mean Squared Error)\n",
    "    metric='neg_mean_squared_error'\n",
    "    scores = cross_val_score(regressor, X_train, y_train, scoring=metric, cv=folds, n_jobs=-1)\n",
    "    mean_score, std_score = np.mean(scores), np.std(scores)\n",
    "    print('>%s - train set - MSE: %.3f (+/-%.3f)' % (name, mean_score, std_score))\n",
    "    \n",
    "    # R^2 (R-Squared)\n",
    "    metric='r2'\n",
    "    scores = cross_val_score(regressor, X_train, y_train, scoring=metric, cv=folds, n_jobs=-1)\n",
    "    mean_score, std_score = np.mean(scores), np.std(scores)\n",
    "    print('>%s - train set - R^2: %.3f (+/-%.3f)' % (name, mean_score, std_score))"
   ]
  },
  {
   "cell_type": "markdown",
   "id": "915e2c04",
   "metadata": {},
   "source": [
    "##### The function below is for model evaluation on the test set\n"
   ]
  },
  {
   "cell_type": "code",
   "execution_count": null,
   "id": "65ff593f",
   "metadata": {},
   "outputs": [],
   "source": [
    "def evaluate_model_on_test_set(name, model, y_test, y_predicted):\n",
    "    print('>%s - test set - MAE: %.3f' % (name, mean_absolute_error(y_test, y_predicted)))\n",
    "    print('>%s - test set - MSE: %.3f' % (name, mean_squared_error(y_test, y_predicted)))\n",
    "    print('>%s - test set - R^2: %.3f' % (name, r2_score(y_test, y_predicted)))"
   ]
  },
  {
   "cell_type": "markdown",
   "id": "cd0e77cc",
   "metadata": {},
   "source": [
    "#### Evaluate the performance of the baseline model on train set"
   ]
  },
  {
   "cell_type": "code",
   "execution_count": null,
   "id": "245a0783",
   "metadata": {},
   "outputs": [],
   "source": [
    "evaluate_model_cross_validation(\"RF_baseline_model\", regressor, X_train, y_train, 10)"
   ]
  },
  {
   "cell_type": "markdown",
   "id": "138b4b80",
   "metadata": {},
   "source": [
    "#### Evaluate the performance of the baseline model on test set"
   ]
  },
  {
   "cell_type": "code",
   "execution_count": null,
   "id": "6ea43185",
   "metadata": {},
   "outputs": [],
   "source": [
    "evaluate_model_on_test_set(\"RF_baseline_model\", regressor, y_test, y_pred)"
   ]
  },
  {
   "cell_type": "markdown",
   "id": "27278ba9",
   "metadata": {},
   "source": [
    "## Additional things I'd have done if I was to dedicate more time to this project\n",
    "1. Hyper-parameter tuning using Gridsearch CV - to get the best set of parameters that increase the performance of the Random Forest Regressor\n",
    "2. Train other regressors: Xgboost, SVM, Linear e.t.c and see if they perform better than Random Forest Regressor\n",
    "3. Carry out some geo-location analysis to see if I could do more with the latitude and longitude\n",
    "\n",
    "P.S: This project took me about 2 hours to complete\n",
    "    "
   ]
  },
  {
   "cell_type": "code",
   "execution_count": null,
   "id": "02c92121",
   "metadata": {},
   "outputs": [],
   "source": []
  }
 ],
 "metadata": {
  "kernelspec": {
   "display_name": "Python 3",
   "language": "python",
   "name": "python3"
  },
  "language_info": {
   "codemirror_mode": {
    "name": "ipython",
    "version": 3
   },
   "file_extension": ".py",
   "mimetype": "text/x-python",
   "name": "python",
   "nbconvert_exporter": "python",
   "pygments_lexer": "ipython3",
   "version": "3.8.8"
  }
 },
 "nbformat": 4,
 "nbformat_minor": 5
}
